{
 "cells": [
  {
   "cell_type": "code",
   "execution_count": null,
   "id": "a68a26e4",
   "metadata": {
    "execution": {
     "iopub.execute_input": "2023-06-05T14:58:22.826743Z",
     "iopub.status.busy": "2023-06-05T14:58:22.825807Z",
     "iopub.status.idle": "2023-06-05T14:58:29.150325Z",
     "shell.execute_reply": "2023-06-05T14:58:29.149251Z"
    },
    "id": "lEzJXgjDf5y8",
    "papermill": {
     "duration": 6.339702,
     "end_time": "2023-06-05T14:58:29.153024",
     "exception": false,
     "start_time": "2023-06-05T14:58:22.813322",
     "status": "completed"
    },
    "tags": []
   },
   "outputs": [],
   "source": [
    "import itertools\n",
    "import math\n",
    "import os\n",
    "import random\n",
    "import shutil\n",
    "from pathlib import Path\n",
    "from typing import Literal, cast\n",
    "\n",
    "import keras\n",
    "import matplotlib.pyplot as plt\n",
    "import numpy as np\n",
    "import pandas as pd\n",
    "import seaborn as sns\n",
    "import tensorflow as tf\n",
    "from sklearn.metrics import classification_report, confusion_matrix\n",
    "# from tensorflow.keras.layers.experimental import preprocessing"
   ]
  },
  {
   "cell_type": "markdown",
   "id": "5174031c",
   "metadata": {},
   "source": [
    "### Parameters"
   ]
  },
  {
   "cell_type": "code",
   "execution_count": null,
   "id": "1ee64ac9",
   "metadata": {
    "execution": {
     "iopub.execute_input": "2023-06-05T14:58:30.460784Z",
     "iopub.status.busy": "2023-06-05T14:58:30.460181Z",
     "iopub.status.idle": "2023-06-05T14:58:30.466903Z",
     "shell.execute_reply": "2023-06-05T14:58:30.464471Z"
    },
    "id": "8nD56d7Xxmc3",
    "papermill": {
     "duration": 0.027166,
     "end_time": "2023-06-05T14:58:30.469682",
     "exception": false,
     "start_time": "2023-06-05T14:58:30.442516",
     "status": "completed"
    },
    "tags": []
   },
   "outputs": [],
   "source": [
    "# https://keras.io/examples/vision/image_classification_efficientnet_fine_tuning/#:~:text=For%20B0%20to%20B7%20base%20models%2C%20the%20input%20shapes%20are%20different.%20Here%20is%20a%20list%20of%20input%20shape%20expected%20for%20each%20model%3A\n",
    "# IMAGE_SIZE = 224  # MobileNet\n",
    "# IMAGE_SIZE = 300  # EfficientNetB3\n",
    "IMAGE_SIZE = 456  # EfficientNetB5\n",
    "# IMAGE_SIZE = 600  # EfficientNetB7\n",
    "\n",
    "# BATCH_SIZE = 32\n",
    "BATCH_SIZE = 16\n",
    "\n",
    "TARGET_SIZE = (IMAGE_SIZE, IMAGE_SIZE)\n",
    "CHANNELS = 3\n",
    "INPUT_SHAPE = (TARGET_SIZE[0], TARGET_SIZE[1], CHANNELS)\n",
    "\n",
    "\n",
    "RANDOM_SEED = 123\n",
    "\n",
    "dataset_input_path, dataset_output_path = \"../../data\", \"../../data\"\n",
    "# dataset_input_path, dataset_output_path = \"/kaggle/input/sea-animals-image-dataste\", \"/kaggle/working/\"\n",
    "\n",
    "dataset_path = dataset_output_path"
   ]
  },
  {
   "cell_type": "markdown",
   "id": "575a9964",
   "metadata": {},
   "source": [
    "### Create directories /train, /valid and /test"
   ]
  },
  {
   "cell_type": "code",
   "execution_count": null,
   "id": "2063aaac",
   "metadata": {},
   "outputs": [],
   "source": [
    "def directory_is_empty(directory: Path) -> bool:\n",
    "    if not os.path.isdir(directory):\n",
    "        return True\n",
    "    return len(os.listdir(directory)) == 0\n",
    "\n",
    "\n",
    "def calculate_split_points(images_count: int, train_ratio: float, valid_ratio: float) -> tuple[int, int]:\n",
    "    train_valid_split_point = math.ceil(images_count * train_ratio)\n",
    "    valid_test_split_point = train_valid_split_point + math.floor(images_count * valid_ratio)\n",
    "    return train_valid_split_point, valid_test_split_point\n",
    "\n",
    "\n",
    "def create_train_test_subdirectories(train_ratio: float = 0.7, validation_ratio: float = 0.1) -> None:\n",
    "    data_input_path = Path(dataset_input_path)  # Has one subdirectory for each Animal\n",
    "    if not data_input_path.is_dir():\n",
    "        raise ValueError(f\"Path '{data_input_path}' is not a directory.\")\n",
    "    data_output_path = Path(dataset_output_path)  # Has one subdirectory for each Animal\n",
    "    train_path = data_output_path / \"train\"\n",
    "    valid_path = data_output_path / \"valid\"\n",
    "    test_path = data_output_path / \"test\"\n",
    "    if not directory_is_empty(train_path) and not directory_is_empty(test_path) and not directory_is_empty(valid_path):\n",
    "        print(\"/train, /valid and /test directories already exist!\")\n",
    "        return\n",
    "    for animal_dir in data_input_path.iterdir():\n",
    "        if not animal_dir.is_dir() or animal_dir.name in [\"train\", \"valid\", \"test\"]:\n",
    "            continue\n",
    "        animal_images = [i for i in animal_dir.glob(\"*\") if i.is_file()]\n",
    "        random.seed(RANDOM_SEED)\n",
    "        random.shuffle(animal_images)\n",
    "        train_valid_split_point, valid_test_split_point = calculate_split_points(\n",
    "            len(animal_images),\n",
    "            train_ratio,\n",
    "            validation_ratio,\n",
    "        )\n",
    "        train_images = animal_images[:train_valid_split_point]\n",
    "        valid_images = animal_images[train_valid_split_point:valid_test_split_point]\n",
    "        test_images = animal_images[valid_test_split_point:]\n",
    "        train_animal_path = train_path / animal_dir.name\n",
    "        valid_animal_path = valid_path / animal_dir.name\n",
    "        test_animal_path = test_path / animal_dir.name\n",
    "        train_animal_path.mkdir(parents=True, exist_ok=True)\n",
    "        valid_animal_path.mkdir(parents=True, exist_ok=True)\n",
    "        test_animal_path.mkdir(parents=True, exist_ok=True)\n",
    "        for train_image in train_images:\n",
    "            shutil.copy(str(train_image), str(train_animal_path / train_image.name))\n",
    "        for valid_image in valid_images:\n",
    "            shutil.copy(str(valid_image), str(valid_animal_path / valid_image.name))\n",
    "        for test_image in test_images:\n",
    "            shutil.copy(str(test_image), str(test_animal_path / test_image.name))\n",
    "        print(f\"{animal_dir.name}:\")\n",
    "        print(f\"  - Moved {len(train_images)} images to 'train/{animal_dir.name}'\")\n",
    "        print(f\"  - Moved {len(valid_images)} images to 'valid/{animal_dir.name}'\")\n",
    "        print(f\"  - Moved {len(test_images)} images to 'test/{animal_dir.name}'\")\n",
    "\n",
    "\n",
    "create_train_test_subdirectories()"
   ]
  },
  {
   "cell_type": "markdown",
   "id": "81b4abd4",
   "metadata": {
    "id": "MLAnhGlf1hmo",
    "papermill": {
     "duration": 0.011242,
     "end_time": "2023-06-05T14:58:35.483147",
     "exception": false,
     "start_time": "2023-06-05T14:58:35.471905",
     "status": "completed"
    },
    "tags": []
   },
   "source": [
    "### Placing data into a Dataframe"
   ]
  },
  {
   "cell_type": "code",
   "execution_count": null,
   "id": "e8aff7f3",
   "metadata": {
    "execution": {
     "iopub.execute_input": "2023-06-05T14:58:35.508001Z",
     "iopub.status.busy": "2023-06-05T14:58:35.507577Z",
     "iopub.status.idle": "2023-06-05T14:58:35.934657Z",
     "shell.execute_reply": "2023-06-05T14:58:35.933653Z"
    },
    "id": "s14XOEp01m_s",
    "papermill": {
     "duration": 0.442384,
     "end_time": "2023-06-05T14:58:35.937269",
     "exception": false,
     "start_time": "2023-06-05T14:58:35.494885",
     "status": "completed"
    },
    "tags": []
   },
   "outputs": [],
   "source": [
    "def get_images_dataframe(directory: Path) -> pd.DataFrame:\n",
    "    extensions = [\"JPG\", \"jpg\", \"png\", \"PNG\"]\n",
    "    images_by_extension = [list(directory.glob(rf\"**/*.{extension}\")) for extension in extensions]\n",
    "    filepaths_with_duplicates = [\n",
    "        image for images_for_extension in images_by_extension for image in images_for_extension\n",
    "    ]\n",
    "    filepaths = list(set(filepaths_with_duplicates))\n",
    "\n",
    "    def get_label_for_path(path: Path) -> str:\n",
    "        # data/<LABEL>/<fileName>\n",
    "        path_without_filename = os.path.split(path)[0]\n",
    "        label = os.path.split(path_without_filename)[1]\n",
    "        return label\n",
    "\n",
    "    labels = [get_label_for_path(x) for x in filepaths]\n",
    "\n",
    "    filepaths = pd.Series(filepaths, name=\"Filepath\").astype(str)\n",
    "    labels = pd.Series(labels, name=\"Label\")\n",
    "    images_df = pd.concat([filepaths, labels], axis=1)\n",
    "    return images_df\n",
    "\n",
    "\n",
    "images_dir = Path(dataset_path)\n",
    "train_dir = images_dir / \"train\"\n",
    "valid_dir = images_dir / \"valid\"\n",
    "test_dir = images_dir / \"test\"\n",
    "\n",
    "train_df = get_images_dataframe(train_dir)\n",
    "valid_df = get_images_dataframe(valid_dir)\n",
    "test_df = get_images_dataframe(test_dir)\n",
    "images_df = pd.concat([train_df, valid_df, test_df], ignore_index=True)\n",
    "num_classes = images_df[\"Label\"].drop_duplicates().count()\n",
    "\n",
    "assert len(images_df) == 13711\n",
    "assert num_classes == 23\n",
    "\n",
    "print(f\"{num_classes=}\")\n",
    "print(images_df)"
   ]
  },
  {
   "cell_type": "markdown",
   "id": "84ad61d4",
   "metadata": {
    "id": "agb1QMDO1pps",
    "papermill": {
     "duration": 0.012934,
     "end_time": "2023-06-05T15:00:14.247053",
     "exception": false,
     "start_time": "2023-06-05T15:00:14.234119",
     "status": "completed"
    },
    "tags": []
   },
   "source": [
    "### Visualizing images from the dataset"
   ]
  },
  {
   "cell_type": "code",
   "execution_count": null,
   "id": "af887cd2",
   "metadata": {
    "execution": {
     "iopub.execute_input": "2023-06-05T15:00:13.734866Z",
     "iopub.status.busy": "2023-06-05T15:00:13.733149Z",
     "iopub.status.idle": "2023-06-05T15:00:14.218451Z",
     "shell.execute_reply": "2023-06-05T15:00:14.217534Z"
    },
    "id": "d3-uoP4n1oqK",
    "outputId": "4af0c4a5-c87d-42eb-aa1b-fe89f1fe8876",
    "papermill": {
     "duration": 0.500679,
     "end_time": "2023-06-05T15:00:14.220773",
     "exception": false,
     "start_time": "2023-06-05T15:00:13.720094",
     "status": "completed"
    },
    "tags": []
   },
   "outputs": [],
   "source": [
    "def show_quantities_by_animal() -> None:\n",
    "    label_counts = images_df[\"Label\"].value_counts()\n",
    "\n",
    "    fix, ax = plt.subplots(figsize=(20, 6))\n",
    "    sns.barplot(x=label_counts.index, y=label_counts.values, alpha=0.8, palette=\"rocket\")\n",
    "    ax.set_title(\"Cantidad de imagenes de cada animal en el dataset\", fontsize=16)\n",
    "    ax.set_xlabel(\"Animal\", fontsize=14)\n",
    "    ax.set_ylabel(\"Cantidad\", fontsize=14)\n",
    "    ax.tick_params(axis=\"x\", labelrotation=45)\n",
    "    plt.show()\n",
    "\n",
    "\n",
    "show_quantities_by_animal()"
   ]
  },
  {
   "cell_type": "code",
   "execution_count": null,
   "id": "6f9c5532",
   "metadata": {
    "execution": {
     "iopub.execute_input": "2023-06-05T15:00:14.275832Z",
     "iopub.status.busy": "2023-06-05T15:00:14.275094Z",
     "iopub.status.idle": "2023-06-05T15:00:15.665926Z",
     "shell.execute_reply": "2023-06-05T15:00:15.664687Z"
    },
    "id": "m4WJVJ7j1rU9",
    "outputId": "777f0f9a-e46c-4475-ca6a-97a4e6fb89a3",
    "papermill": {
     "duration": 1.414202,
     "end_time": "2023-06-05T15:00:15.675290",
     "exception": false,
     "start_time": "2023-06-05T15:00:14.261088",
     "status": "completed"
    },
    "tags": []
   },
   "outputs": [],
   "source": [
    "def show_random_examples() -> None:\n",
    "    rows = 3\n",
    "    columns = 3\n",
    "    random_indexes = np.random.randint(0, len(images_df), rows * columns)\n",
    "    fig, axes = plt.subplots(nrows=rows, ncols=columns, figsize=(5, 5), subplot_kw={\"xticks\": [], \"yticks\": []})\n",
    "\n",
    "    for i, ax in enumerate(axes.flat):\n",
    "        ax.imshow(plt.imread(images_df[\"Filepath\"][random_indexes[i]]))\n",
    "        ax.set_title(images_df[\"Label\"][random_indexes[i]])\n",
    "    plt.tight_layout()\n",
    "    plt.show()\n",
    "\n",
    "\n",
    "show_random_examples()"
   ]
  },
  {
   "cell_type": "markdown",
   "id": "6a51bc05",
   "metadata": {
    "id": "YwC4EWei1s-V",
    "papermill": {
     "duration": 0.046014,
     "end_time": "2023-06-05T15:00:17.589313",
     "exception": false,
     "start_time": "2023-06-05T15:00:17.543299",
     "status": "completed"
    },
    "tags": []
   },
   "source": [
    "### Data Preprocessing\n",
    "The data will be split into three different categories: Training, Validation and Testing."
   ]
  },
  {
   "cell_type": "code",
   "execution_count": null,
   "id": "e278cd07",
   "metadata": {},
   "outputs": [],
   "source": [
    "def read_image_dataset_from_directory(\n",
    "    path: Path,\n",
    "    validation_split: float | None = None,\n",
    "    subset: Literal[\"training\", \"validation\", \"both\"] | None = None,\n",
    "    shuffle: bool = True,\n",
    ") -> tf.data.Dataset:\n",
    "    dataset = keras.utils.image_dataset_from_directory(\n",
    "        directory=path,\n",
    "        labels=\"inferred\",\n",
    "        label_mode=\"int\",  # for `sparse_categorical_crossentropy` loss\n",
    "        # label_mode=\"categorical\",  # for `categorical_crossentropy` loss\n",
    "        color_mode=\"rgb\",\n",
    "        batch_size=BATCH_SIZE,\n",
    "        image_size=IMAGE_SIZE,\n",
    "        shuffle=shuffle,\n",
    "        seed=RANDOM_SEED,\n",
    "        validation_split=validation_split,\n",
    "        subset=subset,\n",
    "    )\n",
    "    dataset = cast(tf.data.Dataset, dataset)\n",
    "    return dataset\n",
    "\n",
    "\n",
    "def get_train_validate_test_images_dataset() -> tuple[tf.data.Dataset, tf.data.Dataset, tf.data.Dataset]:\n",
    "    train_dataset = read_image_dataset_from_directory(train_dir)\n",
    "    validation_dataset = read_image_dataset_from_directory(valid_dir)\n",
    "    test_dataset = read_image_dataset_from_directory(test_dir, shuffle=False)\n",
    "    return train_dataset, validation_dataset, test_dataset\n",
    "\n",
    "\n",
    "train_dataset, validation_dataset, test_dataset = get_train_validate_test_images_dataset()"
   ]
  },
  {
   "cell_type": "markdown",
   "id": "29e9c605",
   "metadata": {
    "id": "xSEhK2w02Uk-",
    "papermill": {
     "duration": 0.045148,
     "end_time": "2023-06-05T15:00:27.411013",
     "exception": false,
     "start_time": "2023-06-05T15:00:27.365865",
     "status": "completed"
    },
    "tags": []
   },
   "source": [
    "### Training the model"
   ]
  },
  {
   "cell_type": "code",
   "execution_count": null,
   "id": "94cd4752",
   "metadata": {},
   "outputs": [],
   "source": [
    "def use_mobilenet_pretrained_model() -> keras.Model:\n",
    "    mobile_model = keras.applications.MobileNetV2(\n",
    "        input_shape=INPUT_SHAPE,\n",
    "        include_top=False,\n",
    "        weights=\"imagenet\",\n",
    "        # pooling=\"avg\",\n",
    "        # pooling=\"max\",\n",
    "        pooling=None,\n",
    "    )\n",
    "    mobile_model.trainable = False\n",
    "\n",
    "    model = keras.Sequential()\n",
    "    model.add(mobile_model)\n",
    "    model.add(keras.layers.Flatten())\n",
    "    model.add(keras.layers.Dense(128, activation=\"relu\"))\n",
    "    model.add(keras.layers.Dropout(0.45))\n",
    "    model.add(keras.layers.Dense(256, activation=\"relu\"))\n",
    "    model.add(keras.layers.Dropout(0.45))\n",
    "    model.add(keras.layers.Dense(num_classes, activation=\"softmax\"))\n",
    "    optimizer = keras.optimizers.Adam()\n",
    "    model.compile(optimizer=optimizer, loss=\"categorical_crossentropy\", metrics=[\"accuracy\"])\n",
    "    return model\n",
    "\n",
    "\n",
    "def use_efficientnet_pretrained_model() -> keras.Model:\n",
    "    # efficientnet_model = keras.applications.EfficientNetB3(\n",
    "    efficientnet_model = keras.applications.EfficientNetB5(\n",
    "        input_shape=INPUT_SHAPE,\n",
    "        include_top=False,\n",
    "        weights=\"imagenet\",\n",
    "        # pooling=\"avg\",\n",
    "        pooling=\"max\",\n",
    "        # pooling=None,\n",
    "    )\n",
    "    efficientnet_model.trainable = False\n",
    "\n",
    "    data_augmentation = keras.Sequential(\n",
    "        [\n",
    "            keras.layers.RandomFlip(\"horizontal\", input_shape=INPUT_SHAPE),\n",
    "            keras.layers.RandomRotation(0.1),\n",
    "            keras.layers.RandomZoom(0.1),\n",
    "            # fill_mode=\"nearest\",\n",
    "        ]\n",
    "    )\n",
    "    inputs = keras.Input(shape=INPUT_SHAPE)\n",
    "    x = data_augmentation(inputs)\n",
    "    x = efficientnet_model(x, training=False)\n",
    "    x = keras.layers.Dropout(0.3)(x)\n",
    "    x = keras.layers.Dense(128, activation=\"relu\")(x)\n",
    "    outputs = keras.layers.Dense(num_classes, activation=\"softmax\")(x)\n",
    "\n",
    "    model = keras.Model(inputs, outputs)\n",
    "    # optimizer = keras.optimizers.Adamax()\n",
    "    optimizer = keras.optimizers.Adam()\n",
    "    loss = keras.losses.SparseCategoricalCrossentropy()\n",
    "    model.compile(\n",
    "        optimizer=optimizer,\n",
    "        loss=loss,\n",
    "        metrics=[\"accuracy\"],\n",
    "    )\n",
    "    return model\n",
    "\n",
    "    # model = keras.Sequential()\n",
    "    # model.add(efficientnet_model)\n",
    "    # model.add(keras.layers.Flatten())\n",
    "    # model.add(keras.layers.Dense(128, activation=\"relu\"))\n",
    "    # model.add(keras.layers.Dropout(0.45))\n",
    "    # model.add(keras.layers.Dense(256, activation=\"relu\"))\n",
    "    # model.add(keras.layers.Dropout(0.45))\n",
    "    # model.add(keras.layers.Dense(num_classes, activation=\"softmax\"))\n",
    "    # return model\n",
    "\n",
    "\n",
    "def use_custom_model() -> keras.Model:\n",
    "    model = keras.Sequential(\n",
    "        [\n",
    "            keras.layers.Input(shape=INPUT_SHAPE),\n",
    "            keras.layers.Conv2D(32, (3, 3), activation=\"relu\"),\n",
    "            keras.layers.MaxPooling2D((2, 2)),\n",
    "            keras.layers.Conv2D(64, (3, 3), activation=\"relu\"),\n",
    "            keras.layers.MaxPooling2D((2, 2)),\n",
    "            keras.layers.Conv2D(128, (3, 3), activation=\"relu\"),\n",
    "            keras.layers.MaxPooling2D((2, 2)),\n",
    "            keras.layers.Flatten(),\n",
    "            keras.layers.Dense(128, activation=\"relu\"),\n",
    "            keras.layers.Dropout(0.5),\n",
    "            keras.layers.Dense(num_classes, activation=\"softmax\"),\n",
    "        ]\n",
    "    )\n",
    "    optimizer = keras.optimizers.Adam()\n",
    "    model.compile(optimizer=optimizer, loss=\"categorical_crossentropy\", metrics=[\"accuracy\"])\n",
    "    return model\n",
    "\n",
    "\n",
    "model = use_efficientnet_pretrained_model()\n",
    "model.summary()"
   ]
  },
  {
   "cell_type": "code",
   "execution_count": null,
   "id": "f3ce8027",
   "metadata": {
    "_kg_hide-output": true,
    "execution": {
     "iopub.execute_input": "2023-06-05T15:00:35.159845Z",
     "iopub.status.busy": "2023-06-05T15:00:35.159261Z",
     "iopub.status.idle": "2023-06-05T17:14:54.914698Z",
     "shell.execute_reply": "2023-06-05T17:14:54.913547Z"
    },
    "id": "AkcAsl5H2tYl",
    "outputId": "173d8e87-7f30-401e-fe3b-077c21025b59",
    "papermill": {
     "duration": 8061.748875,
     "end_time": "2023-06-05T17:14:56.840111",
     "exception": false,
     "start_time": "2023-06-05T15:00:35.091236",
     "status": "completed"
    },
    "tags": []
   },
   "outputs": [],
   "source": [
    "EPOCHS = 15\n",
    "callbacks = []\n",
    "\n",
    "history: keras.callbacks.History = model.fit(\n",
    "    # train_images,\n",
    "    train_dataset,\n",
    "    epochs=EPOCHS,\n",
    "    verbose=1,\n",
    "    # steps_per_epoch=len(train_images),\n",
    "    validation_data=validation_dataset,\n",
    "    # validation_steps=len(validation_images),\n",
    "    callbacks=callbacks,\n",
    "    # shuffle=False,\n",
    ")"
   ]
  },
  {
   "cell_type": "code",
   "execution_count": null,
   "id": "d10a9efe",
   "metadata": {
    "execution": {
     "iopub.execute_input": "2023-06-05T17:15:01.330483Z",
     "iopub.status.busy": "2023-06-05T17:15:01.330105Z",
     "iopub.status.idle": "2023-06-05T17:15:02.516324Z",
     "shell.execute_reply": "2023-06-05T17:15:02.515226Z"
    },
    "papermill": {
     "duration": 3.381948,
     "end_time": "2023-06-05T17:15:02.519528",
     "exception": false,
     "start_time": "2023-06-05T17:14:59.137580",
     "status": "completed"
    },
    "tags": []
   },
   "outputs": [],
   "source": [
    "model.save_weights(\"animals_eff.weights.h5\")"
   ]
  },
  {
   "cell_type": "markdown",
   "id": "c6cc2be5",
   "metadata": {
    "id": "_BWrofxS2vO0",
    "papermill": {
     "duration": 2.211911,
     "end_time": "2023-06-05T17:15:06.935065",
     "exception": false,
     "start_time": "2023-06-05T17:15:04.723154",
     "status": "completed"
    },
    "tags": []
   },
   "source": [
    "### Model Evaluation"
   ]
  },
  {
   "cell_type": "code",
   "execution_count": null,
   "id": "d75b5287",
   "metadata": {
    "execution": {
     "iopub.execute_input": "2023-06-05T17:15:11.460796Z",
     "iopub.status.busy": "2023-06-05T17:15:11.459693Z",
     "iopub.status.idle": "2023-06-05T17:15:30.702379Z",
     "shell.execute_reply": "2023-06-05T17:15:30.701270Z"
    },
    "id": "CS-g90hJ340B",
    "outputId": "8b35403d-9dc0-4a65-b08e-ce223aef2bdb",
    "papermill": {
     "duration": 21.562643,
     "end_time": "2023-06-05T17:15:30.704963",
     "exception": false,
     "start_time": "2023-06-05T17:15:09.142320",
     "status": "completed"
    },
    "tags": []
   },
   "outputs": [],
   "source": [
    "loss, accuracy = model.evaluate(test_dataset, verbose=0)\n",
    "\n",
    "print(\"    Test Loss: {:.5f}\".format(loss))\n",
    "print(\"Test Accuracy: {:.2f}%\".format(accuracy * 100))"
   ]
  },
  {
   "cell_type": "code",
   "execution_count": null,
   "id": "98beda09",
   "metadata": {
    "execution": {
     "iopub.execute_input": "2023-06-05T17:15:39.500918Z",
     "iopub.status.busy": "2023-06-05T17:15:39.500498Z",
     "iopub.status.idle": "2023-06-05T17:15:40.051003Z",
     "shell.execute_reply": "2023-06-05T17:15:40.049978Z"
    },
    "id": "01SS6RVx38o7",
    "outputId": "f982ac64-9de4-4306-c917-1b7a1d0f6e06",
    "papermill": {
     "duration": 2.735782,
     "end_time": "2023-06-05T17:15:40.053344",
     "exception": false,
     "start_time": "2023-06-05T17:15:37.317562",
     "status": "completed"
    },
    "tags": []
   },
   "outputs": [],
   "source": [
    "print(history.history.keys())\n",
    "\n",
    "accuracy = history.history[\"accuracy\"]\n",
    "val_accuracy = history.history[\"val_accuracy\"]\n",
    "\n",
    "loss = history.history[\"loss\"]\n",
    "val_loss = history.history[\"val_loss\"]\n",
    "\n",
    "EPOCHS = range(len(accuracy))\n",
    "plt.plot(EPOCHS, accuracy, \"b\", label=\"Training accuracy\")\n",
    "plt.plot(EPOCHS, val_accuracy, \"r\", label=\"Validation accuracy\")\n",
    "\n",
    "plt.title(\"Training and validation accuracy\")\n",
    "plt.legend()\n",
    "plt.figure()\n",
    "plt.plot(EPOCHS, loss, \"b\", label=\"Training loss\")\n",
    "plt.plot(EPOCHS, val_loss, \"r\", label=\"Validation loss\")\n",
    "\n",
    "plt.title(\"Training and validation loss\")\n",
    "plt.legend()\n",
    "plt.show()"
   ]
  },
  {
   "cell_type": "markdown",
   "id": "cc573f36",
   "metadata": {
    "id": "0BL7xgPz4Fv-",
    "papermill": {
     "duration": 2.223407,
     "end_time": "2023-06-05T17:15:44.506486",
     "exception": false,
     "start_time": "2023-06-05T17:15:42.283079",
     "status": "completed"
    },
    "tags": []
   },
   "source": [
    "### Making predictions on the Test Data"
   ]
  },
  {
   "cell_type": "code",
   "execution_count": null,
   "id": "81bf411f",
   "metadata": {
    "execution": {
     "iopub.execute_input": "2023-06-05T17:15:48.877070Z",
     "iopub.status.busy": "2023-06-05T17:15:48.876444Z",
     "iopub.status.idle": "2023-06-05T17:16:12.068422Z",
     "shell.execute_reply": "2023-06-05T17:16:12.065901Z"
    },
    "id": "KxAegJBB4HlW",
    "outputId": "c836256c-be8e-4346-b6c2-d4c39d030db4",
    "papermill": {
     "duration": 25.393226,
     "end_time": "2023-06-05T17:16:12.070949",
     "exception": false,
     "start_time": "2023-06-05T17:15:46.677723",
     "status": "completed"
    },
    "tags": []
   },
   "outputs": [],
   "source": [
    "# Predict the label of the test_images\n",
    "pred = model.predict(test_dataset)\n",
    "pred = np.argmax(pred, axis=1)\n",
    "\n",
    "print(pred)\n",
    "\n",
    "# Map the label\n",
    "# labels = train_images.class_indices\n",
    "# labels = dict((v, k) for k, v in labels.items())\n",
    "# pred = [labels[k] for k in pred]\n",
    "\n",
    "# Display the result\n",
    "print(f\"The first 5 predictions: {pred[:5]}\")"
   ]
  },
  {
   "cell_type": "code",
   "execution_count": null,
   "id": "3ca75f59",
   "metadata": {
    "execution": {
     "iopub.execute_input": "2023-06-05T17:16:16.542164Z",
     "iopub.status.busy": "2023-06-05T17:16:16.541777Z",
     "iopub.status.idle": "2023-06-05T17:16:17.723758Z",
     "shell.execute_reply": "2023-06-05T17:16:17.722882Z"
    },
    "id": "pWO4e4wb4Iln",
    "outputId": "a58f3382-f991-43ac-e54f-6bd9a36dd25f",
    "papermill": {
     "duration": 3.455877,
     "end_time": "2023-06-05T17:16:17.736143",
     "exception": false,
     "start_time": "2023-06-05T17:16:14.280266",
     "status": "completed"
    },
    "tags": []
   },
   "outputs": [],
   "source": [
    "# Display 25 random pictures from the dataset with their labels\n",
    "random_indexes = np.random.randint(0, len(test_df) - 1, 15)\n",
    "fig, axes = plt.subplots(nrows=3, ncols=5, figsize=(25, 15), subplot_kw={\"xticks\": [], \"yticks\": []})\n",
    "\n",
    "for i, ax in enumerate(axes.flat):\n",
    "    ax.imshow(plt.imread(test_df.Filepath.iloc[random_indexes[i]]))\n",
    "    if test_df.Label.iloc[random_indexes[i]] == pred[random_indexes[i]]:\n",
    "        color = \"green\"\n",
    "    else:\n",
    "        color = \"red\"\n",
    "    ax.set_title(f\"True: {test_df.Label.iloc[random_indexes[i]]}\\nPredicted: {pred[random_indexes[i]]}\", color=color)\n",
    "plt.show()\n",
    "plt.tight_layout()"
   ]
  },
  {
   "cell_type": "markdown",
   "id": "f5ff4608",
   "metadata": {
    "id": "jLYd5vYJ4KTu",
    "papermill": {
     "duration": 2.201145,
     "end_time": "2023-06-05T17:16:22.078486",
     "exception": false,
     "start_time": "2023-06-05T17:16:19.877341",
     "status": "completed"
    },
    "tags": []
   },
   "source": [
    "### Plotting the Classification Reports and Confusion Matrix\n",
    "\n",
    "A <b>confusion matrix</b> is a table that summarizes the number of correct and incorrect predictions made by a classification model on a set of test data. It is usually represented as a square matrix with rows and columns representing the predicted and true class labels, respectively. The entries of the matrix indicate the number of test samples that belong to a certain class, and how many of those were classified correctly or incorrectly by the model. A confusion matrix can provide a detailed breakdown of the performance of the model, including measures such as accuracy, precision, recall, and F1-score for each class. It can be used to identify specific areas where the model is making errors, and to diagnose problems with the model's predictions.\n",
    "\n",
    "A <b>classification report</b> is a summary of the key performance metrics for a classification model, including precision, recall, and F1-score, as well as the overall accuracy of the model. It provides a concise overview of the model's performance, typically broken down by class, and can be used to quickly assess the strengths and weaknesses of the model. The report is often presented as a table, with each row representing a class and columns showing various performance metrics. The report may also include other metrics such as support (the number of test samples belonging to a particular class), and the macro- and micro-averages of the performance metrics across all classes."
   ]
  },
  {
   "cell_type": "code",
   "execution_count": null,
   "id": "e97e656d",
   "metadata": {
    "execution": {
     "iopub.execute_input": "2023-06-05T17:16:27.071022Z",
     "iopub.status.busy": "2023-06-05T17:16:27.070595Z",
     "iopub.status.idle": "2023-06-05T17:16:27.124567Z",
     "shell.execute_reply": "2023-06-05T17:16:27.123018Z"
    },
    "id": "6ySAZoU74MlB",
    "outputId": "b4c6bf97-d4b1-4def-d1a8-bb79c9685504",
    "papermill": {
     "duration": 2.603146,
     "end_time": "2023-06-05T17:16:27.127091",
     "exception": false,
     "start_time": "2023-06-05T17:16:24.523945",
     "status": "completed"
    },
    "tags": []
   },
   "outputs": [],
   "source": [
    "y_test = list(test_df.Label)\n",
    "print(classification_report(y_test, pred))"
   ]
  },
  {
   "cell_type": "code",
   "execution_count": null,
   "id": "c4b64c60",
   "metadata": {
    "execution": {
     "iopub.execute_input": "2023-06-05T17:16:31.621550Z",
     "iopub.status.busy": "2023-06-05T17:16:31.621158Z",
     "iopub.status.idle": "2023-06-05T17:16:31.690131Z",
     "shell.execute_reply": "2023-06-05T17:16:31.688998Z"
    },
    "id": "bYWvkbXI4Ns2",
    "outputId": "7e04d8a2-3263-4a31-d469-70d8140cb167",
    "papermill": {
     "duration": 2.331563,
     "end_time": "2023-06-05T17:16:31.693273",
     "exception": false,
     "start_time": "2023-06-05T17:16:29.361710",
     "status": "completed"
    },
    "tags": []
   },
   "outputs": [],
   "source": [
    "report = classification_report(y_test, pred, output_dict=True)\n",
    "df = pd.DataFrame(report).transpose()\n",
    "df"
   ]
  },
  {
   "cell_type": "code",
   "execution_count": null,
   "id": "a6070604",
   "metadata": {
    "_kg_hide-input": true,
    "execution": {
     "iopub.execute_input": "2023-06-05T17:16:36.162794Z",
     "iopub.status.busy": "2023-06-05T17:16:36.162385Z",
     "iopub.status.idle": "2023-06-05T17:16:36.177689Z",
     "shell.execute_reply": "2023-06-05T17:16:36.176670Z"
    },
    "id": "QS8khAfS4Oy3",
    "papermill": {
     "duration": 2.237642,
     "end_time": "2023-06-05T17:16:36.179874",
     "exception": false,
     "start_time": "2023-06-05T17:16:33.942232",
     "status": "completed"
    },
    "tags": []
   },
   "outputs": [],
   "source": [
    "def make_confusion_matrix(y_true, y_pred, classes=None, figsize=(20, 14), text_size=10, norm=False, savefig=False):\n",
    "    \"\"\"Makes a labelled confusion matrix comparing predictions and ground truth labels.\n",
    "\n",
    "      If classes is passed, confusion matrix will be labelled, if not, integer class values\n",
    "    will be used.\n",
    "\n",
    "    Args:\n",
    "      y_true: Array of truth labels (must be same shape as y_pred).\n",
    "      y_pred: Array of predicted labels (must be same shape as y_true).\n",
    "      classes: Array of class labels (e.g. string form). If `None`, integer labels are used.\n",
    "      figsize: Size of output figure (default=(10, 10)).\n",
    "      text_size: Size of output figure text (default=15).\n",
    "      norm: normalize values or not (default=False).\n",
    "      savefig: save confusion matrix to file (default=False).\n",
    "\n",
    "    Returns:\n",
    "      A labelled confusion matrix plot comparing y_true and y_pred.\n",
    "\n",
    "    Example usage:\n",
    "      make_confusion_matrix(y_true=test_labels, # ground truth test labels\n",
    "                            y_pred=y_preds, # predicted labels\n",
    "                            classes=class_names, # array of class label names\n",
    "                            figsize=(15, 15),\n",
    "                            text_size=10)\n",
    "    \"\"\"\n",
    "    # Create the confustion matrix\n",
    "    cm = confusion_matrix(y_true, y_pred)\n",
    "    cm_norm = cm.astype(\"float\") / cm.sum(axis=1)[:, np.newaxis]  # normalize it\n",
    "    n_classes = cm.shape[0]  # find the number of classes we're dealing with\n",
    "\n",
    "    # Plot the figure and make it pretty\n",
    "    fig, ax = plt.subplots(figsize=figsize)\n",
    "    cax = ax.matshow(cm, cmap=plt.cm.Blues)  # colors will represent how 'correct' a class is, darker == better\n",
    "    fig.colorbar(cax)\n",
    "\n",
    "    # Are there a list of classes?\n",
    "    if classes:\n",
    "        labels = classes\n",
    "    else:\n",
    "        labels = np.arange(cm.shape[0])\n",
    "\n",
    "    # Label the axes\n",
    "    ax.set(\n",
    "        title=\"Confusion Matrix\",\n",
    "        xlabel=\"Predicted label\",\n",
    "        ylabel=\"True label\",\n",
    "        xticks=np.arange(n_classes),  # create enough axis slots for each class\n",
    "        yticks=np.arange(n_classes),\n",
    "        xticklabels=labels,  # axes will labeled with class names (if they exist) or ints\n",
    "        yticklabels=labels,\n",
    "    )\n",
    "\n",
    "    # Make x-axis labels appear on bottom\n",
    "    ax.xaxis.set_label_position(\"bottom\")\n",
    "    ax.xaxis.tick_bottom()\n",
    "    ### Added: Rotate xticks for readability & increase font size (required due to such a large confusion matrix)\n",
    "    plt.xticks(rotation=90, fontsize=text_size)\n",
    "    plt.yticks(fontsize=text_size)\n",
    "\n",
    "    # Set the threshold for different colors\n",
    "    threshold = (cm.max() + cm.min()) / 2.0\n",
    "\n",
    "    # Plot the text on each cell\n",
    "    for i, j in itertools.product(range(cm.shape[0]), range(cm.shape[1])):\n",
    "        if norm:\n",
    "            plt.text(\n",
    "                j,\n",
    "                i,\n",
    "                f\"{cm[i, j]} ({cm_norm[i, j] * 100:.1f}%)\",\n",
    "                horizontalalignment=\"center\",\n",
    "                color=\"white\" if cm[i, j] > threshold else \"black\",\n",
    "                size=text_size,\n",
    "            )\n",
    "        else:\n",
    "            plt.text(\n",
    "                j,\n",
    "                i,\n",
    "                f\"{cm[i, j]}\",\n",
    "                horizontalalignment=\"center\",\n",
    "                color=\"white\" if cm[i, j] > threshold else \"black\",\n",
    "                size=text_size,\n",
    "            )\n",
    "\n",
    "    # Save the figure to the current working directory\n",
    "    if savefig:\n",
    "        fig.savefig(\"confusion_matrix.png\")\n"
   ]
  },
  {
   "cell_type": "code",
   "execution_count": null,
   "id": "a7a8d4f7",
   "metadata": {
    "execution": {
     "iopub.execute_input": "2023-06-05T17:16:40.617048Z",
     "iopub.status.busy": "2023-06-05T17:16:40.616655Z",
     "iopub.status.idle": "2023-06-05T17:16:42.907466Z",
     "shell.execute_reply": "2023-06-05T17:16:42.906546Z"
    },
    "id": "vMsUQM6n4Pyx",
    "outputId": "3eb72904-123b-4e7b-d5b6-e3e339fab375",
    "papermill": {
     "duration": 4.445214,
     "end_time": "2023-06-05T17:16:42.909672",
     "exception": false,
     "start_time": "2023-06-05T17:16:38.464458",
     "status": "completed"
    },
    "tags": []
   },
   "outputs": [],
   "source": [
    "make_confusion_matrix(y_test, pred, list(labels.values()))"
   ]
  }
 ],
 "metadata": {
  "kernelspec": {
   "display_name": "cnn-animales-marinos",
   "language": "python",
   "name": "python3"
  },
  "language_info": {
   "codemirror_mode": {
    "name": "ipython",
    "version": 3
   },
   "file_extension": ".py",
   "mimetype": "text/x-python",
   "name": "python",
   "nbconvert_exporter": "python",
   "pygments_lexer": "ipython3",
   "version": "3.12.10"
  },
  "papermill": {
   "default_parameters": {},
   "duration": 8343.28001,
   "end_time": "2023-06-05T17:17:16.995144",
   "environment_variables": {},
   "exception": null,
   "input_path": "__notebook__.ipynb",
   "output_path": "__notebook__.ipynb",
   "parameters": {},
   "start_time": "2023-06-05T14:58:13.715134",
   "version": "2.3.4"
  }
 },
 "nbformat": 4,
 "nbformat_minor": 5
}
